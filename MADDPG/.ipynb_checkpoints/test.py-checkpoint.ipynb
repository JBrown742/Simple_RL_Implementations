{
 "cells": [
  {
   "cell_type": "code",
   "execution_count": 36,
   "id": "689b83e7",
   "metadata": {
    "scrolled": false
   },
   "outputs": [
    {
     "name": "stdout",
     "output_type": "stream",
     "text": [
      "The autoreload extension is already loaded. To reload it, use:\n",
      "  %reload_ext autoreload\n",
      "['adversary_0', 'agent_0', 'agent_1']\n",
      "has updated: agent: agent_1\n",
      "has updated: agent: agent_1\n",
      "has updated: agent: agent_1\n"
     ]
    }
   ],
   "source": [
    "%load_ext autoreload\n",
    "%autoreload \n",
    "from MADDPG import MADDPG, MultiAgentReplayBuffer\n",
    "import pettingzoo\n",
    "import numpy as np\n",
    "from pettingzoo.mpe import simple_adversary_v2\n",
    "import random\n",
    "\n",
    "env = simple_adversary_v2.env(N=2, max_cycles=3, continuous_actions=True)\n",
    "\n",
    "# Get all the relevant params for the MADDPG class\n",
    "names = env.possible_agents\n",
    "\n",
    "\n",
    "n_actions = []\n",
    "obs_sizes = []\n",
    "for name in names:\n",
    "    act_size = env.action_spaces[name].shape[0]\n",
    "    n_actions.append(act_size)\n",
    "    obs_size = env.observation_spaces[name].shape[0]\n",
    "    obs_sizes.append(obs_size)\n",
    "\n",
    "\n",
    "MAX_EPISODES = 1\n",
    "episode_rewards = np.zeros((MAX_EPISODES, env.max_num_agents))\n",
    "\n",
    "print(names)\n",
    "def local_obs(state, agent):\n",
    "    if agent=='adversary_0':\n",
    "        return state[0:8]\n",
    "    elif agent=='agent_0':\n",
    "        return state[8:18]\n",
    "    else:\n",
    "        return state[18:28]\n",
    "\n",
    "for episode in range(MAX_EPISODES):\n",
    "    env.reset()\n",
    "    for agent in env.agent_iter():\n",
    "        print(agent)\n",
    "        obs, reward, done, info = env.last(observe=True)\n",
    "        \n",
    "        if not done:\n",
    "            action = np.array([np.random.uniform(0,1) for _ in range(5)], dtype=np.float32)\n",
    "        else:\n",
    "            action=None\n",
    "        state = env.state()\n",
    "        env.step(action)\n",
    "        state_ = env.state()\n",
    "        if np.sum(state - state_)!=0.:\n",
    "            print(\"has updated: agent: {}\".format(agent))\n",
    "        #env.render()\n",
    "    env.close()"
   ]
  },
  {
   "cell_type": "code",
   "execution_count": null,
   "id": "baba22b3",
   "metadata": {},
   "outputs": [],
   "source": []
  }
 ],
 "metadata": {
  "kernelspec": {
   "display_name": "Python 3 (ipykernel)",
   "language": "python",
   "name": "python3"
  },
  "language_info": {
   "codemirror_mode": {
    "name": "ipython",
    "version": 3
   },
   "file_extension": ".py",
   "mimetype": "text/x-python",
   "name": "python",
   "nbconvert_exporter": "python",
   "pygments_lexer": "ipython3",
   "version": "3.7.7"
  },
  "latex_envs": {
   "LaTeX_envs_menu_present": true,
   "autoclose": true,
   "autocomplete": true,
   "bibliofile": "biblio.bib",
   "cite_by": "apalike",
   "current_citInitial": 1,
   "eqLabelWithNumbers": true,
   "eqNumInitial": 1,
   "hotkeys": {
    "equation": "Ctrl-E",
    "itemize": "Ctrl-I"
   },
   "labels_anchors": false,
   "latex_user_defs": false,
   "report_style_numbering": false,
   "user_envs_cfg": false
  }
 },
 "nbformat": 4,
 "nbformat_minor": 5
}
