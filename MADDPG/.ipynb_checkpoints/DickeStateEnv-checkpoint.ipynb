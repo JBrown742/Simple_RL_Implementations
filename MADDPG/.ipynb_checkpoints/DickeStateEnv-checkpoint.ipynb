{
 "cells": [
  {
   "cell_type": "code",
   "execution_count": 171,
   "id": "29b5ab3c",
   "metadata": {},
   "outputs": [],
   "source": []
  },
  {
   "cell_type": "code",
   "execution_count": 180,
   "id": "ae1f6df5",
   "metadata": {},
   "outputs": [],
   "source": [
    "import numpy as np\n",
    "import qutip as qt\n",
    "from qutip import tensor, basis, identity, projection\n",
    "from scipy.linalg import expm\n",
    "\n",
    "\"\"\"\n",
    "a simple 3 qubit environment that encourages driving towards a specific entangled state\n",
    "\"\"\"\n",
    "\n",
    "class DickeStateEnv:\n",
    "    def __init__(self, target_state=None, action_max_val=0.2, timestep_duration = 1):\n",
    "        self.act_max = action_max_val\n",
    "        self.duration = timestep_duration\n",
    "        if target_state==None:\n",
    "            self.targ = 1/np.sqrt(3) * (tensor(basis(2,1), basis(2,0), basis(2,0)) + \\\n",
    "                                       tensor(basis(2,0), basis(2,1),  basis(2,0)) + \\\n",
    "                                       tensor(basis(2,0), basis(2,0),  basis(2,1)))\n",
    "        else:\n",
    "            self.targ = target_state\n",
    "        self.q0_00 = tensor(projection(2,0,0), identity(2), identity(2))\n",
    "        self.q0_11 = tensor(projection(2,1,1), identity(2), identity(2))\n",
    "        self.q0_10 = tensor(projection(2,1,0), identity(2), identity(2))\n",
    "        \n",
    "        self.q1_00 = tensor(identity(2), projection(2,0,0),  identity(2))\n",
    "        self.q1_11 = tensor(identity(2), projection(2,1,1),  identity(2))\n",
    "        self.q1_10 = tensor(identity(2), projection(2,1,0),  identity(2))\n",
    "        \n",
    "        self.q2_00 = tensor(identity(2), identity(2), projection(2,0,0))\n",
    "        self.q2_11 = tensor(identity(2), identity(2), projection(2,1,1))\n",
    "        self.q2_10 = tensor(identity(2), identity(2), projection(2,1,0))\n",
    "        \n",
    "        \n",
    "        \n",
    "    def format_local_obs(self, reduced_state):\n",
    "        np_array = reduced_state.full()\n",
    "        real = np_array.real.flatten()\n",
    "        imag = np_array.imag.flatten()\n",
    "        real_imag_concat = np.concatenate((real,imag), axis=0)\n",
    "        return real_imag_concat\n",
    "    \n",
    "    def get_reward(self, input_state):\n",
    "        fid = qt.fidelity(input_state, self.targ)\n",
    "        return fid\n",
    "    \n",
    "    def reset(self):\n",
    "        excitations = np.zeros(3, dtype=np.int32)\n",
    "        idx = np.random.randint(0,3)\n",
    "        excitations[idx]=1\n",
    "        self.state = tensor(basis(2,excitations[0]), basis(2,excitations[1]),basis(2,excitations[2]))\n",
    "        observations = []\n",
    "        for val in excitations:\n",
    "            flattened_obs = self.format_local_obs(basis(2, val)*basis(2,val).dag())\n",
    "            observations.append(flattened_obs)\n",
    "        return observations\n",
    "    \n",
    "    \n",
    "    \n",
    "    def step(self, actions):\n",
    "        coupling_01 = actions[0]*self.act_max\n",
    "        coupling_12 = actions[1]*self.act_max\n",
    "        coupling_02 = actions[3]*self.act_max\n",
    "        \n",
    "        H = (coupling_01 * (self.q0_10*self.q1_10.dag() + self.q1_10*self.q0_10.dag()) +\n",
    "             coupling_12 * (self.q2_10*self.q1_10.dag() + self.q2_10*self.q1_10.dag()) +\n",
    "             coupling_02 * (self.q0_10*self.q2_10.dag() + self.q2_10*self.q0_10.dag()))\n",
    "        U = qt.Qobj(expm(-1j * H * self.duration))\n",
    "        new_state = U * self.state * U.dag()\n",
    "        \n",
    "        reward = self.get_reward(new_state)\n",
    "        rewards = [reward]*3\n",
    "        \n",
    "        self.state = new_state\n",
    "        observations = []\n",
    "        idxs = [0,1,2]\n",
    "        for i in range(3):\n",
    "            reduced_state = new_state.ptrace(i)\n",
    "            formatted = self.format_local_obs(reduced_state)\n",
    "            observations.append(formatted)\n",
    "        if reward>0.99:\n",
    "            dones = [True]*3\n",
    "        else:\n",
    "            dones = [False]*3\n",
    "            \n",
    "        info = {}\n",
    "        return observations, rewards, dones, info\n",
    "    \n",
    "    "
   ]
  },
  {
   "cell_type": "code",
   "execution_count": 181,
   "id": "54f59d62",
   "metadata": {},
   "outputs": [],
   "source": [
    "obs = env.reset"
   ]
  },
  {
   "cell_type": "code",
   "execution_count": 161,
   "id": "fa670dd5",
   "metadata": {
    "collapsed": true
   },
   "outputs": [],
   "source": []
  },
  {
   "cell_type": "code",
   "execution_count": null,
   "id": "2e37bae5",
   "metadata": {},
   "outputs": [],
   "source": []
  },
  {
   "cell_type": "code",
   "execution_count": 164,
   "id": "7ab8469e",
   "metadata": {},
   "outputs": [
    {
     "data": {
      "text/plain": [
       "[array([0.+0.j, 0.+0.j, 0.+0.j, 1.+0.j]),\n",
       " array([1.+0.j, 0.+0.j, 0.+0.j, 0.+0.j]),\n",
       " array([1.+0.j, 0.+0.j, 0.+0.j, 0.+0.j])]"
      ]
     },
     "execution_count": 164,
     "metadata": {},
     "output_type": "execute_result"
    }
   ],
   "source": []
  },
  {
   "cell_type": "code",
   "execution_count": null,
   "id": "5d929806",
   "metadata": {},
   "outputs": [],
   "source": []
  },
  {
   "cell_type": "code",
   "execution_count": 178,
   "id": "f7101a06",
   "metadata": {},
   "outputs": [
    {
     "data": {
      "text/plain": [
       "array([[0., 0.],\n",
       "       [0., 0.]])"
      ]
     },
     "execution_count": 178,
     "metadata": {},
     "output_type": "execute_result"
    }
   ],
   "source": [
    "qt.fock_dm(2,0,0).full().imag"
   ]
  },
  {
   "cell_type": "code",
   "execution_count": null,
   "id": "41447c82",
   "metadata": {},
   "outputs": [],
   "source": []
  }
 ],
 "metadata": {
  "kernelspec": {
   "display_name": "Python 3 (ipykernel)",
   "language": "python",
   "name": "python3"
  },
  "language_info": {
   "codemirror_mode": {
    "name": "ipython",
    "version": 3
   },
   "file_extension": ".py",
   "mimetype": "text/x-python",
   "name": "python",
   "nbconvert_exporter": "python",
   "pygments_lexer": "ipython3",
   "version": "3.7.7"
  },
  "latex_envs": {
   "LaTeX_envs_menu_present": true,
   "autoclose": true,
   "autocomplete": true,
   "bibliofile": "biblio.bib",
   "cite_by": "apalike",
   "current_citInitial": 1,
   "eqLabelWithNumbers": true,
   "eqNumInitial": 1,
   "hotkeys": {
    "equation": "Ctrl-E",
    "itemize": "Ctrl-I"
   },
   "labels_anchors": false,
   "latex_user_defs": false,
   "report_style_numbering": false,
   "user_envs_cfg": false
  }
 },
 "nbformat": 4,
 "nbformat_minor": 5
}
